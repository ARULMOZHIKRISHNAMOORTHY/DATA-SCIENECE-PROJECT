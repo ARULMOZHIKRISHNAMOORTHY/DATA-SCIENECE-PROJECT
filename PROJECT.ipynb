{
 "cells": [
  {
   "cell_type": "markdown",
   "id": "2e430c4d-4e2f-4d0f-a2dc-1d4b93659650",
   "metadata": {},
   "source": [
    " "
   ]
  },
  {
   "cell_type": "code",
   "execution_count": 1,
   "id": "39593bc0-d2a5-4148-833a-82cdd0bc111a",
   "metadata": {},
   "outputs": [
    {
     "name": "stdout",
     "output_type": "stream",
     "text": [
      "WELCOME TO TCKET RESERVATION: \n",
      "1.Checking for seat\n",
      "2.Reservation\n",
      "3.Cancellation\n",
      "4.EXIT...\n"
     ]
    },
    {
     "name": "stdin",
     "output_type": "stream",
     "text": [
      "Enter your choice !  2\n",
      "Enter the seat number you want to reserve?  A1\n"
     ]
    },
    {
     "name": "stdout",
     "output_type": "stream",
     "text": [
      "RESERVATION WAS COMPLETED SUCCESSFULLY\n",
      "WELCOME TO TCKET RESERVATION: \n",
      "1.Checking for seat\n",
      "2.Reservation\n",
      "3.Cancellation\n",
      "4.EXIT...\n"
     ]
    },
    {
     "name": "stdin",
     "output_type": "stream",
     "text": [
      "Enter your choice !  4\n"
     ]
    },
    {
     "name": "stdout",
     "output_type": "stream",
     "text": [
      "Thank you for visiting our page !!!\n"
     ]
    }
   ],
   "source": [
    "## topic = ticket reservation system\n",
    "seats = {\n",
    "    \"A1\":\"available\",\"A2\":\"available\",\"A3\":\"available\",\n",
    "    \"B1\":\"available\",\"B2\":\"available\",\"B3\":\"available\",\n",
    "    \"C1\":\"available\",\"C2\":\"available\",\"C3\":\"available\",\n",
    "}\n",
    "\n",
    "def show_available_seat():\n",
    "    for key,value in seats.items():\n",
    "        print(f\"{key} - {value}\")\n",
    "\n",
    "        \n",
    "def reservation(seat):\n",
    "    if seats.get(seat) == \"available\":\n",
    "        seats[seat] = \"reserved\"\n",
    "        print(\"RESERVATION WAS COMPLETED SUCCESSFULLY\")\n",
    "    else:\n",
    "        print(\"Sorry, This seat is already booked.... choose other one!!\")\n",
    "\n",
    "\n",
    "def reservation_cancel(seat):\n",
    "    if seats.get(seat) == 'reserved':\n",
    "        seats[seat] = 'available'\n",
    "        print(f\"Reservation for seat {seat} cancelled successfully!\")\n",
    "    else:\n",
    "        print(f\" {seat} is not reserved. Nothing to cancel.\")\n",
    "\n",
    "while True:\n",
    "    print(\"WELCOME TO TCKET RESERVATION: \")\n",
    "    print(\"1.Checking for seat\")\n",
    "    print(\"2.Reservation\")\n",
    "    print(\"3.Cancellation\")\n",
    "    print(\"4.EXIT...\")\n",
    "\n",
    "    choice = input(\"Enter your choice ! \")\n",
    "\n",
    "\n",
    "    if choice == \"1\":\n",
    "        show_available_seat()\n",
    "\n",
    "    elif choice == \"2\":\n",
    "        seat = input(\"Enter the seat number you want to reserve? \")\n",
    "        reservation(seat)\n",
    "\n",
    "    elif choice == \"3\":\n",
    "        seat = input(\"Enter seat number do you want cancel? \")\n",
    "        reservation_cancel(seat)\n",
    "    elif choice == \"4\":\n",
    "        print(\"Thank you for visiting our page !!!\")\n",
    "        break\n",
    "    else:\n",
    "        print('Invalid Input data.., PLEASE CHECK AGAIN !!!')"
   ]
  },
  {
   "cell_type": "code",
   "execution_count": null,
   "id": "9058f5c9-cc70-4735-96da-19880b2144fe",
   "metadata": {},
   "outputs": [],
   "source": []
  },
  {
   "cell_type": "code",
   "execution_count": null,
   "id": "76beb67a-d6e0-4b13-9f9f-b4054ad7588c",
   "metadata": {},
   "outputs": [],
   "source": []
  },
  {
   "cell_type": "code",
   "execution_count": null,
   "id": "34b84598-9e08-44d1-8298-3a3c1823c3cd",
   "metadata": {},
   "outputs": [],
   "source": []
  },
  {
   "cell_type": "code",
   "execution_count": null,
   "id": "8b0ab92c-34d7-4dc5-823e-f238e41a875e",
   "metadata": {},
   "outputs": [],
   "source": []
  },
  {
   "cell_type": "code",
   "execution_count": null,
   "id": "2df2e8d7-ff2a-4b8c-8eb9-9f8ec4fc03b9",
   "metadata": {},
   "outputs": [],
   "source": []
  },
  {
   "cell_type": "code",
   "execution_count": null,
   "id": "2aa3e7cf-cd0c-42f5-bc50-030aeacab948",
   "metadata": {},
   "outputs": [],
   "source": []
  },
  {
   "cell_type": "code",
   "execution_count": null,
   "id": "65e9f613-d38c-459e-a90e-75f99cc48201",
   "metadata": {},
   "outputs": [],
   "source": []
  },
  {
   "cell_type": "code",
   "execution_count": null,
   "id": "aa609ba3-47a4-470b-b821-3c89c6ae1594",
   "metadata": {},
   "outputs": [],
   "source": []
  },
  {
   "cell_type": "code",
   "execution_count": null,
   "id": "875b0f40-ca23-4879-94fd-6a1dedc353c8",
   "metadata": {},
   "outputs": [],
   "source": []
  },
  {
   "cell_type": "markdown",
   "id": "a6fb8e9d-20ca-4235-b19a-03697cadb1d6",
   "metadata": {},
   "source": []
  }
 ],
 "metadata": {
  "kernelspec": {
   "display_name": "Python 3 (ipykernel)",
   "language": "python",
   "name": "python3"
  },
  "language_info": {
   "codemirror_mode": {
    "name": "ipython",
    "version": 3
   },
   "file_extension": ".py",
   "mimetype": "text/x-python",
   "name": "python",
   "nbconvert_exporter": "python",
   "pygments_lexer": "ipython3",
   "version": "3.12.4"
  }
 },
 "nbformat": 4,
 "nbformat_minor": 5
}
